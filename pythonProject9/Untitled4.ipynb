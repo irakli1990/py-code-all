{
 "cells": [
  {
   "cell_type": "code",
   "execution_count": 1,
   "metadata": {},
   "outputs": [],
   "source": [
    "import math"
   ]
  },
  {
   "cell_type": "code",
   "execution_count": 2,
   "metadata": {},
   "outputs": [],
   "source": [
    "def r_N(n):\n",
    "    p =  lambda x : x/100\n",
    "    pN = p(n)\n",
    "    return pN"
   ]
  },
  {
   "cell_type": "code",
   "execution_count": 3,
   "metadata": {},
   "outputs": [
    {
     "name": "stdout",
     "output_type": "stream",
     "text": [
      "--------------------------------\n",
      "k1\t:25\n",
      "k2\t:16\n",
      "--------------------------------\n",
      "k1\t:29\n",
      "k2\t:12\n",
      "--------------------------------\n",
      "k1\t:33\n",
      "k2\t:8\n",
      "--------------------------------\n",
      "k1\t:37\n",
      "k2\t:4\n"
     ]
    }
   ],
   "source": [
    "#K = kres górny (sqrt(N) +/- i * % N) dla K >=2 i K <=N\n",
    "N = 416\n",
    "\n",
    "for i in range(N):\n",
    "    k1 = round(math.sqrt(N) + ((i+1)* r_N(N)))\n",
    "    k2 = round(math.sqrt(N) - ((i+1)* r_N(N)))\n",
    "    if k2 <=2 or k1>=N:\n",
    "        break\n",
    "    print('--------------------------------')\n",
    "    print(f'k1\\t:{k1}')\n",
    "    print(f'k2\\t:{k2}')\n",
    "       \n"
   ]
  }
 ],
 "metadata": {
  "kernelspec": {
   "display_name": "Python 3",
   "language": "python",
   "name": "python3"
  },
  "language_info": {
   "codemirror_mode": {
    "name": "ipython",
    "version": 3
   },
   "file_extension": ".py",
   "mimetype": "text/x-python",
   "name": "python",
   "nbconvert_exporter": "python",
   "pygments_lexer": "ipython3",
   "version": "3.8.5"
  }
 },
 "nbformat": 4,
 "nbformat_minor": 4
}
